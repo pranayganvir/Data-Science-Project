{
 "cells": [
  {
   "cell_type": "markdown",
   "id": "ae52dff9",
   "metadata": {},
   "source": [
    "### What is Data Visualization?\n",
    "\n",
    "Data Visualization is the process of representing data in graphical or pictorial form. Instead of working with raw numbers or large datasets, visualization helps present insights in a way that is easy to understand, interpret, and communicate.\n",
    "\n",
    "It acts as a bridge between data and decision-making, allowing us to quickly spot patterns, trends, outliers, and relationships."
   ]
  },
  {
   "cell_type": "markdown",
   "id": "d91be2f7",
   "metadata": {},
   "source": [
    "### Types of Data Visualization Techniques\n",
    "\n",
    "- Univariate plots (showing one variable): Histogram, Pie Chart, Bar Chart.\n",
    "- Bivariate plots (two variables): Scatter Plot, Box Plot, Line Plot.\n",
    "- Multivariate plots (three or more variables): Heatmap, Pair Plot, Stacked Bar Plot.\n",
    "- Advanced/Interactive: Word Clouds, Sankey Diagrams, Geographic Maps, 3D Plots."
   ]
  },
  {
   "cell_type": "code",
   "execution_count": 1,
   "id": "3ffc0d91",
   "metadata": {},
   "outputs": [],
   "source": [
    "import numpy as np \n",
    "import pandas as pd \n",
    "import matplotlib.pyplot as plt\n",
    "import seaborn as sns"
   ]
  },
  {
   "cell_type": "code",
   "execution_count": 2,
   "id": "343f8957",
   "metadata": {},
   "outputs": [],
   "source": [
    "#Load the dataset\n",
    "df = pd.read_csv('student.csv')"
   ]
  },
  {
   "cell_type": "code",
   "execution_count": 3,
   "id": "6f870a2b",
   "metadata": {},
   "outputs": [
    {
     "data": {
      "application/vnd.microsoft.datawrangler.viewer.v0+json": {
       "columns": [
        {
         "name": "index",
         "rawType": "int64",
         "type": "integer"
        },
        {
         "name": "gender",
         "rawType": "object",
         "type": "string"
        },
        {
         "name": "race/ethnicity",
         "rawType": "object",
         "type": "string"
        },
        {
         "name": "parental level of education",
         "rawType": "object",
         "type": "string"
        },
        {
         "name": "lunch",
         "rawType": "object",
         "type": "string"
        },
        {
         "name": "test preparation course",
         "rawType": "object",
         "type": "string"
        },
        {
         "name": "math score",
         "rawType": "int64",
         "type": "integer"
        },
        {
         "name": "reading score",
         "rawType": "int64",
         "type": "integer"
        },
        {
         "name": "writing score",
         "rawType": "int64",
         "type": "integer"
        }
       ],
       "ref": "72ff4b0e-9ce1-414d-8326-1fa94d64f419",
       "rows": [
        [
         "0",
         "female",
         "group B",
         "bachelor's degree",
         "standard",
         "none",
         "72",
         "72",
         "74"
        ],
        [
         "1",
         "female",
         "group C",
         "some college",
         "standard",
         "completed",
         "69",
         "90",
         "88"
        ],
        [
         "2",
         "female",
         "group B",
         "master's degree",
         "standard",
         "none",
         "90",
         "95",
         "93"
        ],
        [
         "3",
         "male",
         "group A",
         "associate's degree",
         "free/reduced",
         "none",
         "47",
         "57",
         "44"
        ],
        [
         "4",
         "male",
         "group C",
         "some college",
         "standard",
         "none",
         "76",
         "78",
         "75"
        ]
       ],
       "shape": {
        "columns": 8,
        "rows": 5
       }
      },
      "text/html": [
       "<div>\n",
       "<style scoped>\n",
       "    .dataframe tbody tr th:only-of-type {\n",
       "        vertical-align: middle;\n",
       "    }\n",
       "\n",
       "    .dataframe tbody tr th {\n",
       "        vertical-align: top;\n",
       "    }\n",
       "\n",
       "    .dataframe thead th {\n",
       "        text-align: right;\n",
       "    }\n",
       "</style>\n",
       "<table border=\"1\" class=\"dataframe\">\n",
       "  <thead>\n",
       "    <tr style=\"text-align: right;\">\n",
       "      <th></th>\n",
       "      <th>gender</th>\n",
       "      <th>race/ethnicity</th>\n",
       "      <th>parental level of education</th>\n",
       "      <th>lunch</th>\n",
       "      <th>test preparation course</th>\n",
       "      <th>math score</th>\n",
       "      <th>reading score</th>\n",
       "      <th>writing score</th>\n",
       "    </tr>\n",
       "  </thead>\n",
       "  <tbody>\n",
       "    <tr>\n",
       "      <th>0</th>\n",
       "      <td>female</td>\n",
       "      <td>group B</td>\n",
       "      <td>bachelor's degree</td>\n",
       "      <td>standard</td>\n",
       "      <td>none</td>\n",
       "      <td>72</td>\n",
       "      <td>72</td>\n",
       "      <td>74</td>\n",
       "    </tr>\n",
       "    <tr>\n",
       "      <th>1</th>\n",
       "      <td>female</td>\n",
       "      <td>group C</td>\n",
       "      <td>some college</td>\n",
       "      <td>standard</td>\n",
       "      <td>completed</td>\n",
       "      <td>69</td>\n",
       "      <td>90</td>\n",
       "      <td>88</td>\n",
       "    </tr>\n",
       "    <tr>\n",
       "      <th>2</th>\n",
       "      <td>female</td>\n",
       "      <td>group B</td>\n",
       "      <td>master's degree</td>\n",
       "      <td>standard</td>\n",
       "      <td>none</td>\n",
       "      <td>90</td>\n",
       "      <td>95</td>\n",
       "      <td>93</td>\n",
       "    </tr>\n",
       "    <tr>\n",
       "      <th>3</th>\n",
       "      <td>male</td>\n",
       "      <td>group A</td>\n",
       "      <td>associate's degree</td>\n",
       "      <td>free/reduced</td>\n",
       "      <td>none</td>\n",
       "      <td>47</td>\n",
       "      <td>57</td>\n",
       "      <td>44</td>\n",
       "    </tr>\n",
       "    <tr>\n",
       "      <th>4</th>\n",
       "      <td>male</td>\n",
       "      <td>group C</td>\n",
       "      <td>some college</td>\n",
       "      <td>standard</td>\n",
       "      <td>none</td>\n",
       "      <td>76</td>\n",
       "      <td>78</td>\n",
       "      <td>75</td>\n",
       "    </tr>\n",
       "  </tbody>\n",
       "</table>\n",
       "</div>"
      ],
      "text/plain": [
       "   gender race/ethnicity parental level of education         lunch  \\\n",
       "0  female        group B           bachelor's degree      standard   \n",
       "1  female        group C                some college      standard   \n",
       "2  female        group B             master's degree      standard   \n",
       "3    male        group A          associate's degree  free/reduced   \n",
       "4    male        group C                some college      standard   \n",
       "\n",
       "  test preparation course  math score  reading score  writing score  \n",
       "0                    none          72             72             74  \n",
       "1               completed          69             90             88  \n",
       "2                    none          90             95             93  \n",
       "3                    none          47             57             44  \n",
       "4                    none          76             78             75  "
      ]
     },
     "execution_count": 3,
     "metadata": {},
     "output_type": "execute_result"
    }
   ],
   "source": [
    "df.head()"
   ]
  },
  {
   "cell_type": "code",
   "execution_count": 10,
   "id": "c6ecc091",
   "metadata": {},
   "outputs": [
    {
     "data": {
      "text/plain": [
       "(1000, 8)"
      ]
     },
     "execution_count": 10,
     "metadata": {},
     "output_type": "execute_result"
    }
   ],
   "source": [
    "df.shape"
   ]
  },
  {
   "cell_type": "markdown",
   "id": "0a18b2b7",
   "metadata": {},
   "source": [
    "### 1 Line Plot\n",
    "\n",
    "A line plot is a graph that displays data points connected by straight lines, typically used to show trends or changes over time. It helps in visualizing patterns, increases, decreases, and overall movement in data.\n"
   ]
  },
  {
   "cell_type": "code",
   "execution_count": 14,
   "id": "6ddc1fb9",
   "metadata": {},
   "outputs": [
    {
     "data": {
      "image/png": "[encoded data removed]",
      "text/plain": [
       "<Figure size 640x480 with 1 Axes>"
      ]
     },
     "metadata": {},
     "output_type": "display_data"
    }
   ],
   "source": [
    "l1 = [10, 20, 30, 40, 50, 60, 50, 30, 90, 100]\n",
    "plt.plot(l1)\n",
    "plt.title('Basic Line Plot')\n",
    "plt.ylabel('Values')\n",
    "plt.show()"
   ]
  },
  {
   "cell_type": "markdown",
   "id": "8be27e88",
   "metadata": {},
   "source": [
    "### 2 Histogram\n",
    "\n",
    "A histogram is a type of bar graph that shows the frequency distribution of a numerical variable by dividing the data into intervals (bins) and displaying how many values fall into each bin.\n"
   ]
  },
  {
   "cell_type": "code",
   "execution_count": 17,
   "id": "d4d57a02",
   "metadata": {},
   "outputs": [
    {
     "data": {
      "image/png": "[encoded data removed]",
      "text/plain": [
       "<Figure size 640x480 with 1 Axes>"
      ]
     },
     "metadata": {},
     "output_type": "display_data"
    }
   ],
   "source": [
    "plt.hist(df['math score'], bins=10, color='skyblue', edgecolor='black')\n",
    "plt.title('Histogram of Math Mark')\n",
    "plt.xlabel('Marks Range')\n",
    "plt.ylabel('Frequency')\n",
    "plt.show()"
   ]
  },
  {
   "cell_type": "markdown",
   "id": "a027650e",
   "metadata": {},
   "source": [
    "### 3 Bar Graph\n",
    "\n",
    "A bar plot is used to represent categorical data with rectangular bars.\n",
    "- Each bar’s length/height shows the frequency or value of the category.\n",
    "- Useful for comparing different groups or categories."
   ]
  },
  {
   "cell_type": "code",
   "execution_count": null,
   "id": "ecf2f089",
   "metadata": {},
   "outputs": [
    {
     "data": {
      "application/vnd.microsoft.datawrangler.viewer.v0+json": {
       "columns": [
        {
         "name": "index",
         "rawType": "int64",
         "type": "integer"
        },
        {
         "name": "gender",
         "rawType": "object",
         "type": "string"
        },
        {
         "name": "race/ethnicity",
         "rawType": "object",
         "type": "string"
        },
        {
         "name": "parental level of education",
         "rawType": "object",
         "type": "string"
        },
        {
         "name": "lunch",
         "rawType": "object",
         "type": "string"
        },
        {
         "name": "test preparation course",
         "rawType": "object",
         "type": "string"
        },
        {
         "name": "math score",
         "rawType": "int64",
         "type": "integer"
        },
        {
         "name": "reading score",
         "rawType": "int64",
         "type": "integer"
        },
        {
         "name": "writing score",
         "rawType": "int64",
         "type": "integer"
        }
       ],
       "ref": "6c91b224-658a-4288-8a6e-d9f21a09e89b",
       "rows": [
        [
         "0",
         "female",
         "group B",
         "bachelor's degree",
         "standard",
         "none",
         "72",
         "72",
         "74"
        ],
        [
         "1",
         "female",
         "group C",
         "some college",
         "standard",
         "completed",
         "69",
         "90",
         "88"
        ],
        [
         "2",
         "female",
         "group B",
         "master's degree",
         "standard",
         "none",
         "90",
         "95",
         "93"
        ],
        [
         "3",
         "male",
         "group A",
         "associate's degree",
         "free/reduced",
         "none",
         "47",
         "57",
         "44"
        ],
        [
         "4",
         "male",
         "group C",
         "some college",
         "standard",
         "none",
         "76",
         "78",
         "75"
        ]
       ],
       "shape": {
        "columns": 8,
        "rows": 5
       }
      },
      "text/html": [
       "<div>\n",
       "<style scoped>\n",
       "    .dataframe tbody tr th:only-of-type {\n",
       "        vertical-align: middle;\n",
       "    }\n",
       "\n",
       "    .dataframe tbody tr th {\n",
       "        vertical-align: top;\n",
       "    }\n",
       "\n",
       "    .dataframe thead th {\n",
       "        text-align: right;\n",
       "    }\n",
       "</style>\n",
       "<table border=\"1\" class=\"dataframe\">\n",
       "  <thead>\n",
       "    <tr style=\"text-align: right;\">\n",
       "      <th></th>\n",
       "      <th>gender</th>\n",
       "      <th>race/ethnicity</th>\n",
       "      <th>parental level of education</th>\n",
       "      <th>lunch</th>\n",
       "      <th>test preparation course</th>\n",
       "      <th>math score</th>\n",
       "      <th>reading score</th>\n",
       "      <th>writing score</th>\n",
       "    </tr>\n",
       "  </thead>\n",
       "  <tbody>\n",
       "    <tr>\n",
       "      <th>0</th>\n",
       "      <td>female</td>\n",
       "      <td>group B</td>\n",
       "      <td>bachelor's degree</td>\n",
       "      <td>standard</td>\n",
       "      <td>none</td>\n",
       "      <td>72</td>\n",
       "      <td>72</td>\n",
       "      <td>74</td>\n",
       "    </tr>\n",
       "    <tr>\n",
       "      <th>1</th>\n",
       "      <td>female</td>\n",
       "      <td>group C</td>\n",
       "      <td>some college</td>\n",
       "      <td>standard</td>\n",
       "      <td>completed</td>\n",
       "      <td>69</td>\n",
       "      <td>90</td>\n",
       "      <td>88</td>\n",
       "    </tr>\n",
       "    <tr>\n",
       "      <th>2</th>\n",
       "      <td>female</td>\n",
       "      <td>group B</td>\n",
       "      <td>master's degree</td>\n",
       "      <td>standard</td>\n",
       "      <td>none</td>\n",
       "      <td>90</td>\n",
       "      <td>95</td>\n",
       "      <td>93</td>\n",
       "    </tr>\n",
       "    <tr>\n",
       "      <th>3</th>\n",
       "      <td>male</td>\n",
       "      <td>group A</td>\n",
       "      <td>associate's degree</td>\n",
       "      <td>free/reduced</td>\n",
       "      <td>none</td>\n",
       "      <td>47</td>\n",
       "      <td>57</td>\n",
       "      <td>44</td>\n",
       "    </tr>\n",
       "    <tr>\n",
       "      <th>4</th>\n",
       "      <td>male</td>\n",
       "      <td>group C</td>\n",
       "      <td>some college</td>\n",
       "      <td>standard</td>\n",
       "      <td>none</td>\n",
       "      <td>76</td>\n",
       "      <td>78</td>\n",
       "      <td>75</td>\n",
       "    </tr>\n",
       "  </tbody>\n",
       "</table>\n",
       "</div>"
      ],
      "text/plain": [
       "   gender race/ethnicity parental level of education         lunch  \\\n",
       "0  female        group B           bachelor's degree      standard   \n",
       "1  female        group C                some college      standard   \n",
       "2  female        group B             master's degree      standard   \n",
       "3    male        group A          associate's degree  free/reduced   \n",
       "4    male        group C                some college      standard   \n",
       "\n",
       "  test preparation course  math score  reading score  writing score  \n",
       "0                    none          72             72             74  \n",
       "1               completed          69             90             88  \n",
       "2                    none          90             95             93  \n",
       "3                    none          47             57             44  \n",
       "4                    none          76             78             75  "
      ]
     },
     "execution_count": 37,
     "metadata": {},
     "output_type": "execute_result"
    }
   ],
   "source": [
    "df.head()"
   ]
  },
  {
   "cell_type": "code",
   "execution_count": 38,
   "id": "2c8a8258",
   "metadata": {},
   "outputs": [
    {
     "data": {
      "text/plain": [
       "Index(['gender', 'race/ethnicity', 'parental level of education', 'lunch',\n",
       "       'test preparation course', 'math score', 'reading score',\n",
       "       'writing score'],\n",
       "      dtype='object')"
      ]
     },
     "execution_count": 38,
     "metadata": {},
     "output_type": "execute_result"
    }
   ],
   "source": [
    "df.columns"
   ]
  },
  {
   "cell_type": "code",
   "execution_count": 30,
   "id": "4d66e719",
   "metadata": {},
   "outputs": [
    {
     "data": {
      "image/png": "[encoded data removed]",
      "text/plain": [
       "<Figure size 640x480 with 1 Axes>"
      ]
     },
     "metadata": {},
     "output_type": "display_data"
    }
   ],
   "source": [
    "sns.barplot(x='gender', y = 'math score', data=df, palette='Set1', hue='gender')\n",
    "plt.show()"
   ]
  },
  {
   "cell_type": "code",
   "execution_count": 36,
   "id": "aed71ddf",
   "metadata": {},
   "outputs": [
    {
     "data": {
      "image/png": "[encoded data removed]",
      "text/plain": [
       "<Figure size 640x480 with 1 Axes>"
      ]
     },
     "metadata": {},
     "output_type": "display_data"
    }
   ],
   "source": [
    "sns.barplot(x='parental level of education', y = 'reading score', data=df, palette='Set1', hue='gender')\n",
    "plt.xticks(rotation=90)\n",
    "plt.show()"
   ]
  },
  {
   "cell_type": "code",
   "execution_count": 40,
   "id": "0b184865",
   "metadata": {},
   "outputs": [
    {
     "data": {
      "image/png": "[encoded data removed]",
      "text/plain": [
       "<Figure size 640x480 with 1 Axes>"
      ]
     },
     "metadata": {},
     "output_type": "display_data"
    }
   ],
   "source": [
    "sns.barplot(x='race/ethnicity', y = 'writing score', data=df, palette='Set1', hue='gender', legend=False)\n",
    "plt.show()"
   ]
  },
  {
   "cell_type": "code",
   "execution_count": 42,
   "id": "6091d580",
   "metadata": {},
   "outputs": [],
   "source": [
    "level = np.array([1,2,3,4,5])\n",
    "salary = np.array([50, 400, 250, 100, 500])"
   ]
  },
  {
   "cell_type": "code",
   "execution_count": 43,
   "id": "9905bae4",
   "metadata": {},
   "outputs": [],
   "source": [
    "df2 = pd.DataFrame(level, columns=['Level'])"
   ]
  },
  {
   "cell_type": "code",
   "execution_count": 45,
   "id": "3bf7a9c0",
   "metadata": {},
   "outputs": [],
   "source": [
    "df2['Salary'] = salary"
   ]
  },
  {
   "cell_type": "code",
   "execution_count": 46,
   "id": "9ea3a0cb",
   "metadata": {},
   "outputs": [
    {
     "data": {
      "application/vnd.microsoft.datawrangler.viewer.v0+json": {
       "columns": [
        {
         "name": "index",
         "rawType": "int64",
         "type": "integer"
        },
        {
         "name": "Level",
         "rawType": "int32",
         "type": "integer"
        },
        {
         "name": "Salary",
         "rawType": "int32",
         "type": "integer"
        }
       ],
       "ref": "1e22df7b-d77e-4d37-846f-319b31602aa8",
       "rows": [
        [
         "0",
         "1",
         "50"
        ],
        [
         "1",
         "2",
         "400"
        ],
        [
         "2",
         "3",
         "250"
        ],
        [
         "3",
         "4",
         "100"
        ],
        [
         "4",
         "5",
         "500"
        ]
       ],
       "shape": {
        "columns": 2,
        "rows": 5
       }
      },
      "text/html": [
       "<div>\n",
       "<style scoped>\n",
       "    .dataframe tbody tr th:only-of-type {\n",
       "        vertical-align: middle;\n",
       "    }\n",
       "\n",
       "    .dataframe tbody tr th {\n",
       "        vertical-align: top;\n",
       "    }\n",
       "\n",
       "    .dataframe thead th {\n",
       "        text-align: right;\n",
       "    }\n",
       "</style>\n",
       "<table border=\"1\" class=\"dataframe\">\n",
       "  <thead>\n",
       "    <tr style=\"text-align: right;\">\n",
       "      <th></th>\n",
       "      <th>Level</th>\n",
       "      <th>Salary</th>\n",
       "    </tr>\n",
       "  </thead>\n",
       "  <tbody>\n",
       "    <tr>\n",
       "      <th>0</th>\n",
       "      <td>1</td>\n",
       "      <td>50</td>\n",
       "    </tr>\n",
       "    <tr>\n",
       "      <th>1</th>\n",
       "      <td>2</td>\n",
       "      <td>400</td>\n",
       "    </tr>\n",
       "    <tr>\n",
       "      <th>2</th>\n",
       "      <td>3</td>\n",
       "      <td>250</td>\n",
       "    </tr>\n",
       "    <tr>\n",
       "      <th>3</th>\n",
       "      <td>4</td>\n",
       "      <td>100</td>\n",
       "    </tr>\n",
       "    <tr>\n",
       "      <th>4</th>\n",
       "      <td>5</td>\n",
       "      <td>500</td>\n",
       "    </tr>\n",
       "  </tbody>\n",
       "</table>\n",
       "</div>"
      ],
      "text/plain": [
       "   Level  Salary\n",
       "0      1      50\n",
       "1      2     400\n",
       "2      3     250\n",
       "3      4     100\n",
       "4      5     500"
      ]
     },
     "execution_count": 46,
     "metadata": {},
     "output_type": "execute_result"
    }
   ],
   "source": [
    "df2"
   ]
  },
  {
   "cell_type": "markdown",
   "id": "9e2d5691",
   "metadata": {},
   "source": [
    "### 4 Scatter Plot\n",
    "A scatter plot is used to visualize the relationship between two continuous variables.\n",
    "- Each point represents an observation.\n",
    "- It helps identify patterns, correlations, clusters, and outliers.\n",
    "- Often used in regression and trend analysis."
   ]
  },
  {
   "cell_type": "code",
   "execution_count": 50,
   "id": "a3de99af",
   "metadata": {},
   "outputs": [
    {
     "data": {
      "image/png": "[encoded data removed]",
      "text/plain": [
       "<Figure size 640x480 with 1 Axes>"
      ]
     },
     "metadata": {},
     "output_type": "display_data"
    }
   ],
   "source": [
    "sns.scatterplot(x='Level',y='Salary', data=df2)\n",
    "plt.show()"
   ]
  },
  {
   "cell_type": "markdown",
   "id": "cfe00cac",
   "metadata": {},
   "source": [
    "### 5 Pie Chart\n",
    "A pie chart is a circular chart divided into slices to illustrate numerical proportions.\n",
    "\n",
    "- Each slice shows the relative size of a category compared to the whole.\n",
    "- Best for showing percentage or part-to-whole relationships.\n",
    "- Not ideal when there are too many categories (hard to read)."
   ]
  },
  {
   "cell_type": "code",
   "execution_count": 52,
   "id": "81503bfa",
   "metadata": {},
   "outputs": [
    {
     "data": {
      "image/png": "[encoded data removed]",
      "text/plain": [
       "<Figure size 640x480 with 1 Axes>"
      ]
     },
     "metadata": {},
     "output_type": "display_data"
    }
   ],
   "source": [
    "# Data\n",
    "labels = [\"Math\", \"Science\", \"English\", \"History\", \"Art\"]\n",
    "scores = [85, 90, 78, 88, 70]\n",
    "\n",
    "# Create pie chart\n",
    "plt.pie(scores, labels=labels, autopct=\"%1.1f%%\", startangle=140, colors=sns.color_palette('pastel'))\n",
    "plt.title(\"Pie Chart of Subject Scores\")\n",
    "plt.show()"
   ]
  },
  {
   "cell_type": "code",
   "execution_count": null,
   "id": "4617b2e9",
   "metadata": {},
   "outputs": [],
   "source": []
  }
 ],
 "metadata": {
  "kernelspec": {
   "display_name": "base",
   "language": "python",
   "name": "python3"
  },
  "language_info": {
   "codemirror_mode": {
    "name": "ipython",
    "version": 3
   },
   "file_extension": ".py",
   "mimetype": "text/x-python",
   "name": "python",
   "nbconvert_exporter": "python",
   "pygments_lexer": "ipython3",
   "version": "3.12.4"
  }
 },
 "nbformat": 4,
 "nbformat_minor": 5
}
