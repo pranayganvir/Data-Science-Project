{
 "cells": [
  {
   "cell_type": "markdown",
   "id": "83f9c399",
   "metadata": {},
   "source": [
    "### Belarus Car Price Prediction\n",
    "The aim of this project is to predict the price of the car in Belarus. by analyzing the car features such as brand, yer, engine, fuel type, transmission, mileage, drive unit, color, and segment. The project also aims to find out the set the of varibles that has most impact on the car price.\n",
    "\n",
    "The dataset has been taken form kaggle. It has 56244 rows and 12 columns.\n",
    "\n",
    "## Data Dictionary\n",
    "\n",
    "| Variable | Description |\n",
    "| --- | --- |\n",
    "| make| machine firm |\n",
    "| model| machine model |\n",
    "|price USD| price in USD (target variable)|\n",
    "| year| year of production|\n",
    "| condition| represents the condition at the sale moment (with mileage, for parts, etc)|\n",
    "| mileage| mileage in kilometers|\n",
    "| fuel type| type of the fuel (electro, petrol, diesel)|\n",
    "| volume(cm3)| volume of the engine in cubic centimeters|\n",
    "| color| color of the car|\n",
    "| transmission| type of transmission|\n",
    "| drive unit| drive unit|\n",
    "| segment| segment of the car|"
   ]
  },
  {
   "cell_type": "code",
   "execution_count": 1,
   "id": "8f739000",
   "metadata": {},
   "outputs": [],
   "source": [
    "# Loading the libraries \n",
    "import pandas as pd \n",
    "import numpy as np \n",
    "import matplotlib.pyplot as plt \n",
    "import seaborn as sns \n"
   ]
  },
  {
   "cell_type": "code",
   "execution_count": 2,
   "id": "a0594209",
   "metadata": {},
   "outputs": [],
   "source": [
    "# Loading the dataset \n",
    "df = pd.read_csv(r'cars.csv')"
   ]
  },
  {
   "cell_type": "markdown",
   "id": "317ef8c8",
   "metadata": {},
   "source": []
  },
  {
   "cell_type": "code",
   "execution_count": 3,
   "id": "f85034cb",
   "metadata": {},
   "outputs": [
    {
     "data": {
      "application/vnd.microsoft.datawrangler.viewer.v0+json": {
       "columns": [
        {
         "name": "index",
         "rawType": "int64",
         "type": "integer"
        },
        {
         "name": "make",
         "rawType": "object",
         "type": "string"
        },
        {
         "name": "model",
         "rawType": "object",
         "type": "string"
        },
        {
         "name": "priceUSD",
         "rawType": "int64",
         "type": "integer"
        },
        {
         "name": "year",
         "rawType": "int64",
         "type": "integer"
        },
        {
         "name": "condition",
         "rawType": "object",
         "type": "string"
        },
        {
         "name": "mileage(kilometers)",
         "rawType": "float64",
         "type": "float"
        },
        {
         "name": "fuel_type",
         "rawType": "object",
         "type": "string"
        },
        {
         "name": "volume(cm3)",
         "rawType": "float64",
         "type": "float"
        },
        {
         "name": "color",
         "rawType": "object",
         "type": "string"
        },
        {
         "name": "transmission",
         "rawType": "object",
         "type": "string"
        },
        {
         "name": "drive_unit",
         "rawType": "object",
         "type": "string"
        },
        {
         "name": "segment",
         "rawType": "object",
         "type": "string"
        }
       ],
       "conversionMethod": "pd.DataFrame",
       "ref": "4fe38b6c-47fa-4abb-8fa5-337ae3207ab8",
       "rows": [
        [
         "0",
         "mazda",
         "2",
         "5500",
         "2008",
         "with mileage",
         "162000.0",
         "petrol",
         "1500.0",
         "burgundy",
         "mechanics",
         "front-wheel drive",
         "B"
        ],
        [
         "1",
         "mazda",
         "2",
         "5350",
         "2009",
         "with mileage",
         "120000.0",
         "petrol",
         "1300.0",
         "black",
         "mechanics",
         "front-wheel drive",
         "B"
        ],
        [
         "2",
         "mazda",
         "2",
         "7000",
         "2009",
         "with mileage",
         "61000.0",
         "petrol",
         "1500.0",
         "silver",
         "auto",
         "front-wheel drive",
         "B"
        ],
        [
         "3",
         "mazda",
         "2",
         "3300",
         "2003",
         "with mileage",
         "265000.0",
         "diesel",
         "1400.0",
         "white",
         "mechanics",
         "front-wheel drive",
         "B"
        ],
        [
         "4",
         "mazda",
         "2",
         "5200",
         "2008",
         "with mileage",
         "97183.0",
         "diesel",
         "1400.0",
         "gray",
         "mechanics",
         "front-wheel drive",
         "B"
        ]
       ],
       "shape": {
        "columns": 12,
        "rows": 5
       }
      },
      "text/html": [
       "<div>\n",
       "<style scoped>\n",
       "    .dataframe tbody tr th:only-of-type {\n",
       "        vertical-align: middle;\n",
       "    }\n",
       "\n",
       "    .dataframe tbody tr th {\n",
       "        vertical-align: top;\n",
       "    }\n",
       "\n",
       "    .dataframe thead th {\n",
       "        text-align: right;\n",
       "    }\n",
       "</style>\n",
       "<table border=\"1\" class=\"dataframe\">\n",
       "  <thead>\n",
       "    <tr style=\"text-align: right;\">\n",
       "      <th></th>\n",
       "      <th>make</th>\n",
       "      <th>model</th>\n",
       "      <th>priceUSD</th>\n",
       "      <th>year</th>\n",
       "      <th>condition</th>\n",
       "      <th>mileage(kilometers)</th>\n",
       "      <th>fuel_type</th>\n",
       "      <th>volume(cm3)</th>\n",
       "      <th>color</th>\n",
       "      <th>transmission</th>\n",
       "      <th>drive_unit</th>\n",
       "      <th>segment</th>\n",
       "    </tr>\n",
       "  </thead>\n",
       "  <tbody>\n",
       "    <tr>\n",
       "      <th>0</th>\n",
       "      <td>mazda</td>\n",
       "      <td>2</td>\n",
       "      <td>5500</td>\n",
       "      <td>2008</td>\n",
       "      <td>with mileage</td>\n",
       "      <td>162000.0</td>\n",
       "      <td>petrol</td>\n",
       "      <td>1500.0</td>\n",
       "      <td>burgundy</td>\n",
       "      <td>mechanics</td>\n",
       "      <td>front-wheel drive</td>\n",
       "      <td>B</td>\n",
       "    </tr>\n",
       "    <tr>\n",
       "      <th>1</th>\n",
       "      <td>mazda</td>\n",
       "      <td>2</td>\n",
       "      <td>5350</td>\n",
       "      <td>2009</td>\n",
       "      <td>with mileage</td>\n",
       "      <td>120000.0</td>\n",
       "      <td>petrol</td>\n",
       "      <td>1300.0</td>\n",
       "      <td>black</td>\n",
       "      <td>mechanics</td>\n",
       "      <td>front-wheel drive</td>\n",
       "      <td>B</td>\n",
       "    </tr>\n",
       "    <tr>\n",
       "      <th>2</th>\n",
       "      <td>mazda</td>\n",
       "      <td>2</td>\n",
       "      <td>7000</td>\n",
       "      <td>2009</td>\n",
       "      <td>with mileage</td>\n",
       "      <td>61000.0</td>\n",
       "      <td>petrol</td>\n",
       "      <td>1500.0</td>\n",
       "      <td>silver</td>\n",
       "      <td>auto</td>\n",
       "      <td>front-wheel drive</td>\n",
       "      <td>B</td>\n",
       "    </tr>\n",
       "    <tr>\n",
       "      <th>3</th>\n",
       "      <td>mazda</td>\n",
       "      <td>2</td>\n",
       "      <td>3300</td>\n",
       "      <td>2003</td>\n",
       "      <td>with mileage</td>\n",
       "      <td>265000.0</td>\n",
       "      <td>diesel</td>\n",
       "      <td>1400.0</td>\n",
       "      <td>white</td>\n",
       "      <td>mechanics</td>\n",
       "      <td>front-wheel drive</td>\n",
       "      <td>B</td>\n",
       "    </tr>\n",
       "    <tr>\n",
       "      <th>4</th>\n",
       "      <td>mazda</td>\n",
       "      <td>2</td>\n",
       "      <td>5200</td>\n",
       "      <td>2008</td>\n",
       "      <td>with mileage</td>\n",
       "      <td>97183.0</td>\n",
       "      <td>diesel</td>\n",
       "      <td>1400.0</td>\n",
       "      <td>gray</td>\n",
       "      <td>mechanics</td>\n",
       "      <td>front-wheel drive</td>\n",
       "      <td>B</td>\n",
       "    </tr>\n",
       "  </tbody>\n",
       "</table>\n",
       "</div>"
      ],
      "text/plain": [
       "    make model  priceUSD  year     condition  mileage(kilometers) fuel_type  \\\n",
       "0  mazda     2      5500  2008  with mileage             162000.0    petrol   \n",
       "1  mazda     2      5350  2009  with mileage             120000.0    petrol   \n",
       "2  mazda     2      7000  2009  with mileage              61000.0    petrol   \n",
       "3  mazda     2      3300  2003  with mileage             265000.0    diesel   \n",
       "4  mazda     2      5200  2008  with mileage              97183.0    diesel   \n",
       "\n",
       "   volume(cm3)     color transmission         drive_unit segment  \n",
       "0       1500.0  burgundy    mechanics  front-wheel drive       B  \n",
       "1       1300.0     black    mechanics  front-wheel drive       B  \n",
       "2       1500.0    silver         auto  front-wheel drive       B  \n",
       "3       1400.0     white    mechanics  front-wheel drive       B  \n",
       "4       1400.0      gray    mechanics  front-wheel drive       B  "
      ]
     },
     "execution_count": 3,
     "metadata": {},
     "output_type": "execute_result"
    }
   ],
   "source": [
    "df.head()"
   ]
  },
  {
   "cell_type": "markdown",
   "id": "290c69e0",
   "metadata": {},
   "source": [
    "### Data Preprocessing Part 1"
   ]
  },
  {
   "cell_type": "code",
   "execution_count": null,
   "id": "2881af3e",
   "metadata": {},
   "outputs": [
    {
     "data": {
      "text/plain": [
       "(56244, 12)"
      ]
     },
     "execution_count": 4,
     "metadata": {},
     "output_type": "execute_result"
    }
   ],
   "source": [
    "# Checking the shape of the dataset \n",
    "df.shape"
   ]
  },
  {
   "cell_type": "code",
   "execution_count": 5,
   "id": "4ef98928",
   "metadata": {},
   "outputs": [
    {
     "data": {
      "text/plain": [
       "make                    object\n",
       "model                   object\n",
       "priceUSD                 int64\n",
       "year                     int64\n",
       "condition               object\n",
       "mileage(kilometers)    float64\n",
       "fuel_type               object\n",
       "volume(cm3)            float64\n",
       "color                   object\n",
       "transmission            object\n",
       "drive_unit              object\n",
       "segment                 object\n",
       "dtype: object"
      ]
     },
     "execution_count": 5,
     "metadata": {},
     "output_type": "execute_result"
    }
   ],
   "source": [
    "# Checking the data types of the columns \n",
    "df.dtypes"
   ]
  },
  {
   "cell_type": "code",
   "execution_count": 6,
   "id": "21a4cbc4",
   "metadata": {},
   "outputs": [
    {
     "data": {
      "text/plain": [
       "make                     96\n",
       "model                  1034\n",
       "priceUSD               2970\n",
       "year                     78\n",
       "condition                 3\n",
       "mileage(kilometers)    8400\n",
       "fuel_type                 3\n",
       "volume(cm3)             458\n",
       "color                    13\n",
       "transmission              2\n",
       "drive_unit                4\n",
       "segment                   9\n",
       "dtype: int64"
      ]
     },
     "execution_count": 6,
     "metadata": {},
     "output_type": "execute_result"
    }
   ],
   "source": [
    "# Unique values in the columns \n",
    "df.nunique()"
   ]
  },
  {
   "cell_type": "code",
   "execution_count": 7,
   "id": "de979ec4",
   "metadata": {},
   "outputs": [
    {
     "data": {
      "text/plain": [
       "array(['mazda', 'mg', 'renault', 'gaz', 'aro', 'rover', 'uaz',\n",
       "       'alfa-romeo', 'audi', 'oldsmobile', 'saab', 'peugeot', 'chrysler',\n",
       "       'wartburg', 'moskvich', 'volvo', 'fiat', 'roewe', 'porsche', 'zaz',\n",
       "       'luaz', 'dacia', 'lada-vaz', 'izh', 'raf', 'bogdan', 'bmw',\n",
       "       'nissan', 'mercedes-benz', 'mitsubishi', 'toyota', 'chery', 'gmc',\n",
       "       'hyundai', 'honda', 'ssangyong', 'suzuki', 'opel', 'seat',\n",
       "       'volkswagen', 'daihatsu', 'chevrolet', 'geely', 'saturn', 'kia',\n",
       "       'lincoln', 'eksklyuziv', 'citroen', 'dong-feng', 'pontiac', 'ford',\n",
       "       'subaru', 'bentley', 'faw', 'cadillac', 'lifan', 'plymouth',\n",
       "       'hafei', 'shanghai-maple', 'mini', 'jeep', 'skoda', 'mercury',\n",
       "       'changan', 'lexus', 'isuzu', 'aston-martin', 'lancia',\n",
       "       'great-wall', 'land-rover', 'jaguar', 'buick', 'daewoo', 'vortex',\n",
       "       'infiniti', 'byd', 'smart', 'maserati', 'haval', 'acura', 'scion',\n",
       "       'tata', 'datsun', 'tesla', 'mclaren', 'ravon', 'trabant', 'proton',\n",
       "       'fso', 'jac', 'asia', 'iran-khodro', 'zotye', 'tagaz', 'saipa',\n",
       "       'brilliance'], dtype=object)"
      ]
     },
     "execution_count": 7,
     "metadata": {},
     "output_type": "execute_result"
    }
   ],
   "source": [
    "# Unique car make \n",
    "df['make'].unique()"
   ]
  },
  {
   "cell_type": "markdown",
   "id": "cee7a042",
   "metadata": {},
   "source": [
    "since there are many car make, and it is difficult to analyze them individually, so i will group them into categories: Luxury European, Mainstream European, Russina/ Eastern European, Asian, American, Speciality, and Other. The grouping is based on the car make and the country of origin."
   ]
  },
  {
   "cell_type": "code",
   "execution_count": 8,
   "id": "8b00aa21",
   "metadata": {},
   "outputs": [],
   "source": [
    "# Categorizing the car make\n",
    "def car_make(make):\n",
    "    if make in ['mazda', 'mg', 'rover','alfa-romeo', 'audi', 'peugeot', 'chrysler', 'bmw', 'aston-martin','jaguar', 'land-rover']:\n",
    "        return 'Luxury European'\n",
    "    elif make in ['renault','dacia', 'citroen', 'volvo', 'fiat', 'opel', 'seat', 'volkswagen', 'citroen', 'skoda', 'mini', 'smart' ]:\n",
    "        return 'Mainstream European'\n",
    "    elif make in ['gaz', 'aro', 'lada-vaz', 'izh', 'raf', 'bogdan', 'moskvich', 'uaz', 'luaz', 'wartburg', 'trabant', 'proton', 'fso', 'jac', 'iran-khodro', 'zotye', 'tagaz', 'saipa', 'brilliance']:\n",
    "        return 'Russian/Eastern European'\n",
    "    elif make in ['toyota', 'nissan','asia', 'mitsubishi', 'chery', 'hyundai', 'honda', 'ssangyong', 'suzuki', 'daihatsu', 'kia', 'changan', 'lexus', 'isuzu', 'great-wall', 'daewoo', 'vortex', 'infiniti', 'byd', 'geely', 'haval', 'acura', 'scion', 'tata', 'datsun', 'ravon', 'proton', 'jac']:\n",
    "        return 'Asian'\n",
    "    elif make in ['oldsmobile', 'gmc', 'chrysler', 'plymouth', 'ford', 'cadillac', 'jeep', 'mercury', 'lincoln', 'buick', 'saturn', 'pontiac', 'chevrolet']:\n",
    "        return 'American'\n",
    "    elif make in ['porsche','bentley', 'maserati', 'tesla', 'mclaren']:\n",
    "        return 'Specialty'\n",
    "    else:\n",
    "        return 'Other'\n",
    "    \n",
    "df['make_segment'] = df['make'].apply(car_make)"
   ]
  },
  {
   "cell_type": "code",
   "execution_count": 9,
   "id": "490c37ec",
   "metadata": {},
   "outputs": [
    {
     "data": {
      "application/vnd.microsoft.datawrangler.viewer.v0+json": {
       "columns": [
        {
         "name": "index",
         "rawType": "object",
         "type": "string"
        },
        {
         "name": "priceUSD",
         "rawType": "float64",
         "type": "float"
        },
        {
         "name": "year",
         "rawType": "float64",
         "type": "float"
        },
        {
         "name": "mileage(kilometers)",
         "rawType": "float64",
         "type": "float"
        },
        {
         "name": "volume(cm3)",
         "rawType": "float64",
         "type": "float"
        }
       ],
       "conversionMethod": "pd.DataFrame",
       "ref": "6f1750f2-5fa9-42f6-b8f8-62d23e872aa6",
       "rows": [
        [
         "count",
         "56244.0",
         "56244.0",
         "56244.0",
         "56197.0"
        ],
        [
         "mean",
         "7415.456439798023",
         "2003.454839627338",
         "244395.63102006793",
         "2104.860615335338"
        ],
        [
         "std",
         "8316.95926091124",
         "8.144246878985097",
         "321030.66838198446",
         "959.2016330347633"
        ],
        [
         "min",
         "48.0",
         "1910.0",
         "0.0",
         "500.0"
        ],
        [
         "25%",
         "2350.0",
         "1998.0",
         "137000.0",
         "1600.0"
        ],
        [
         "50%",
         "5350.0",
         "2004.0",
         "228500.0",
         "1996.0"
        ],
        [
         "75%",
         "9807.5",
         "2010.0",
         "310000.0",
         "2300.0"
        ],
        [
         "max",
         "235235.0",
         "2019.0",
         "9999999.0",
         "20000.0"
        ]
       ],
       "shape": {
        "columns": 4,
        "rows": 8
       }
      },
      "text/html": [
       "<div>\n",
       "<style scoped>\n",
       "    .dataframe tbody tr th:only-of-type {\n",
       "        vertical-align: middle;\n",
       "    }\n",
       "\n",
       "    .dataframe tbody tr th {\n",
       "        vertical-align: top;\n",
       "    }\n",
       "\n",
       "    .dataframe thead th {\n",
       "        text-align: right;\n",
       "    }\n",
       "</style>\n",
       "<table border=\"1\" class=\"dataframe\">\n",
       "  <thead>\n",
       "    <tr style=\"text-align: right;\">\n",
       "      <th></th>\n",
       "      <th>priceUSD</th>\n",
       "      <th>year</th>\n",
       "      <th>mileage(kilometers)</th>\n",
       "      <th>volume(cm3)</th>\n",
       "    </tr>\n",
       "  </thead>\n",
       "  <tbody>\n",
       "    <tr>\n",
       "      <th>count</th>\n",
       "      <td>56244.000000</td>\n",
       "      <td>56244.000000</td>\n",
       "      <td>5.624400e+04</td>\n",
       "      <td>56197.000000</td>\n",
       "    </tr>\n",
       "    <tr>\n",
       "      <th>mean</th>\n",
       "      <td>7415.456440</td>\n",
       "      <td>2003.454840</td>\n",
       "      <td>2.443956e+05</td>\n",
       "      <td>2104.860615</td>\n",
       "    </tr>\n",
       "    <tr>\n",
       "      <th>std</th>\n",
       "      <td>8316.959261</td>\n",
       "      <td>8.144247</td>\n",
       "      <td>3.210307e+05</td>\n",
       "      <td>959.201633</td>\n",
       "    </tr>\n",
       "    <tr>\n",
       "      <th>min</th>\n",
       "      <td>48.000000</td>\n",
       "      <td>1910.000000</td>\n",
       "      <td>0.000000e+00</td>\n",
       "      <td>500.000000</td>\n",
       "    </tr>\n",
       "    <tr>\n",
       "      <th>25%</th>\n",
       "      <td>2350.000000</td>\n",
       "      <td>1998.000000</td>\n",
       "      <td>1.370000e+05</td>\n",
       "      <td>1600.000000</td>\n",
       "    </tr>\n",
       "    <tr>\n",
       "      <th>50%</th>\n",
       "      <td>5350.000000</td>\n",
       "      <td>2004.000000</td>\n",
       "      <td>2.285000e+05</td>\n",
       "      <td>1996.000000</td>\n",
       "    </tr>\n",
       "    <tr>\n",
       "      <th>75%</th>\n",
       "      <td>9807.500000</td>\n",
       "      <td>2010.000000</td>\n",
       "      <td>3.100000e+05</td>\n",
       "      <td>2300.000000</td>\n",
       "    </tr>\n",
       "    <tr>\n",
       "      <th>max</th>\n",
       "      <td>235235.000000</td>\n",
       "      <td>2019.000000</td>\n",
       "      <td>9.999999e+06</td>\n",
       "      <td>20000.000000</td>\n",
       "    </tr>\n",
       "  </tbody>\n",
       "</table>\n",
       "</div>"
      ],
      "text/plain": [
       "            priceUSD          year  mileage(kilometers)   volume(cm3)\n",
       "count   56244.000000  56244.000000         5.624400e+04  56197.000000\n",
       "mean     7415.456440   2003.454840         2.443956e+05   2104.860615\n",
       "std      8316.959261      8.144247         3.210307e+05    959.201633\n",
       "min        48.000000   1910.000000         0.000000e+00    500.000000\n",
       "25%      2350.000000   1998.000000         1.370000e+05   1600.000000\n",
       "50%      5350.000000   2004.000000         2.285000e+05   1996.000000\n",
       "75%      9807.500000   2010.000000         3.100000e+05   2300.000000\n",
       "max    235235.000000   2019.000000         9.999999e+06  20000.000000"
      ]
     },
     "execution_count": 9,
     "metadata": {},
     "output_type": "execute_result"
    }
   ],
   "source": [
    "df.describe()"
   ]
  },
  {
   "cell_type": "code",
   "execution_count": null,
   "id": "f242e7e7",
   "metadata": {},
   "outputs": [],
   "source": []
  }
 ],
 "metadata": {
  "kernelspec": {
   "display_name": "base",
   "language": "python",
   "name": "python3"
  },
  "language_info": {
   "codemirror_mode": {
    "name": "ipython",
    "version": 3
   },
   "file_extension": ".py",
   "mimetype": "text/x-python",
   "name": "python",
   "nbconvert_exporter": "python",
   "pygments_lexer": "ipython3",
   "version": "3.12.4"
  }
 },
 "nbformat": 4,
 "nbformat_minor": 5
}
